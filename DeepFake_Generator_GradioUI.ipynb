{
  "cells": [
    {
      "cell_type": "markdown",
      "metadata": {
        "id": "view-in-github",
        "colab_type": "text"
      },
      "source": [
        "<a href=\"https://colab.research.google.com/github/VinzentBuecheler/Deepfake/blob/main/DeepFake_Generator_GradioUI.ipynb\" target=\"_parent\"><img src=\"https://colab.research.google.com/assets/colab-badge.svg\" alt=\"Open In Colab\"/></a>"
      ]
    },
    {
      "cell_type": "markdown",
      "source": [
        "# Deep Fake Video Generator (Run in Google Colab)"
      ],
      "metadata": {
        "id": "8b01_lgx4oFg"
      }
    },
    {
      "cell_type": "markdown",
      "source": [
        "## 1. Text translation - Setup"
      ],
      "metadata": {
        "id": "3i9Anxir9gfo"
      }
    },
    {
      "cell_type": "code",
      "execution_count": 1,
      "metadata": {
        "id": "iBxtacdf3URP"
      },
      "outputs": [],
      "source": [
        "def translation_en_de(input):\n",
        "  !pip install transformers torch espnet IPython espnet_model_zoo\n",
        "  !pip install sacremoses\n",
        "\n",
        "  from transformers import FSMTForConditionalGeneration, FSMTTokenizer\n",
        "  import time\n",
        "  import torch\n",
        "  from espnet2.bin.tts_inference import Text2Speech\n",
        "  from espnet2.utils.types import str_or_none\n",
        "\n",
        "  mname = \"facebook/wmt19-de-en\"\n",
        "  tokenizer = FSMTTokenizer.from_pretrained(mname)\n",
        "  model = FSMTForConditionalGeneration.from_pretrained(mname)\n",
        "\n",
        "  input_ids = tokenizer.encode(input, return_tensors=\"pt\")\n",
        "  outputs = model.generate(input_ids)\n",
        "  decoded = tokenizer.decode(outputs[0], skip_special_tokens=True)\n",
        "  return decoded"
      ]
    },
    {
      "cell_type": "markdown",
      "source": [
        "## 2. Voice Cloning - Setup"
      ],
      "metadata": {
        "id": "F8iDoGMA6SxR"
      }
    },
    {
      "cell_type": "code",
      "execution_count": 2,
      "metadata": {
        "id": "O0yu3lZm3URY"
      },
      "outputs": [],
      "source": [
        "SAMPLE_RATE = 22050\n",
        "embedding = None\n",
        "\n",
        "def voice_cloning(text,celebName): #voice_cloning_setup(celebName):\n",
        "\n",
        "  #2.1 Setup\n",
        "  %tensorflow_version 1.x\n",
        "  import os\n",
        "  from os.path import exists, join, basename, splitext\n",
        "\n",
        "  from IPython.display import display, Audio, clear_output\n",
        "  \n",
        "  git_repo_url = 'https://github.com/CorentinJ/Real-Time-Voice-Cloning.git'\n",
        "  project_name = splitext(basename(git_repo_url))[0]\n",
        "  if not exists(project_name):\n",
        "    # clone and install\n",
        "    !git clone -q --recursive {git_repo_url}\n",
        "    # install dependencies\n",
        "    !cd {project_name} && pip install -q -r requirements.txt\n",
        "    !pip install -q --upgrade gdown\n",
        "    !apt-get install -qq libportaudio2\n",
        "    !pip install -q https://github.com/tugstugi/dl-colab-notebooks/archive/colab_utils.zip\n",
        "\n",
        "    # download pretrained model\n",
        "    !cd {project_name} && wget https://github.com/blue-fish/Real-Time-Voice-Cloning/releases/download/v1.0/pretrained.zip && unzip -o pretrained.zip\n",
        "    !cd {project_name} && mkdir -p saved_models/default/\n",
        "    !cd {project_name}/saved_models/default/ && gdown https://drive.google.com/uc?id=1f9z6OHKwCRa7CteX6AV5XN68CCPHwCI1 #https://drive.google.com/uc?id=1q8mEGwCkFy23KZsinbuvdKAQLqNKbYf1\n",
        "    !cd {project_name}/saved_models/default/ && gdown https://drive.google.com/uc?id=19Uqcr2an7ha0Xymur4AtXV7a9lZN7mqj #https://drive.google.com/uc?id=1EqFMIbvxffxtjiVrtykroF6_mUh-5Z3s\n",
        "    !cd {project_name}/saved_models/default/ && gdown https://drive.google.com/uc?id=14qJzfTehtjvBwUBlWFWnvZnfYvT9m9aW #https://drive.google.com/uc?id=1cf2NO6FtI0jDuy8AV3Xgn6leO6dHjIgu\n",
        "\n",
        "  import sys\n",
        "  sys.path.append(project_name)\n",
        "\n",
        "  from IPython.utils import io\n",
        "  import ipywidgets as widgets\n",
        "  import numpy as np\n",
        "  from dl_colab_notebooks.audio import record_audio, upload_audio\n",
        "\n",
        "  from synthesizer.inference import Synthesizer\n",
        "  from encoder import inference as encoder\n",
        "  from vocoder import inference as vocoder\n",
        "  from pathlib import Path\n",
        "\n",
        "  !ls\n",
        "\n",
        "  encoder.load_model(project_name / Path(\"saved_models/default/encoder.pt\"))\n",
        "  synthesizer = Synthesizer(project_name / Path(\"saved_models/default/synthesizer.pt\"))\n",
        "  vocoder.load_model(project_name / Path(\"saved_models/default/vocoder.pt\"))\n",
        "  \n",
        "  #2.2 Generating Embedding\n",
        "\n",
        "  #Choose between the celebrity audios.\n",
        "  if celebName == \"Trump\":\n",
        "    !cd sample_data && gdown https://drive.google.com/uc?id=1i0WhVsQh-7ptZQ5TTUfmsOo_yhnAqu3_\n",
        "    audio = \"/content/sample_data/Trump_WEF_2018-trimmed.mp3\"\n",
        "  elif celebName == \"Merkel\":\n",
        "    !cd sample_data && gdown https://drive.google.com/uc?id=1cuHpYW8slLF34Es5HPBY3zUUDc_SMKgW\n",
        "    audio = \"/content/sample_data/Angela Merkel final.mp3\"\n",
        "  elif celebName == \"Mickey\":\n",
        "    # Mickey gdrive link\n",
        "    audio = \"/content/sample_data/Mickey_audio.mp3\"\n",
        "  elif celebName == \"Modi\":\n",
        "    # Modi gdrive link\n",
        "    audio = \"/content/sample_data/Modi_audio.mp3\"\n",
        "\n",
        "  embedding = None\n",
        "  embedding = encoder.embed_utterance(encoder.preprocess_wav(audio, SAMPLE_RATE))\n",
        "\n",
        "  if embedding is None:\n",
        "    print(\"Error fetching the reference audio file. Check the link to gdrive file\")\n",
        "  else:\n",
        "    \n",
        "    #2.3 Synthesizing new Audio\n",
        "    from scipy.io.wavfile import write\n",
        "    print(\"Synthesizing new audio...\")\n",
        "    #with io.capture_output() as captured:\n",
        "    specs = synthesizer.synthesize_spectrograms([text], [embedding])\n",
        "    generated_wav = vocoder.infer_waveform(specs[0])\n",
        "    generated_wav = np.pad(generated_wav, (0, synthesizer.sample_rate), mode=\"constant\")\n",
        "    # clear_output()\n",
        "    #display(Audio(generated_wav, rate=synthesizer.sample_rate, autoplay=False))\n",
        "\n",
        "    #Save the generated audio file in a directory.\n",
        "    scaled_audio = np.int16(generated_wav/np.max(np.abs(generated_wav)) * 32767)\n",
        "    \n",
        "    if celebName == \"Trump\":\n",
        "      outputAudioName = 'voiceClone_output_Trump.wav'\n",
        "    elif celebName == \"Merkel\":\n",
        "      outputAudioName = 'voiceClone_output_Merkel.wav'\n",
        "    elif celebName == \"Mickey\":\n",
        "      outputAudioName = 'voiceClone_output_Mickey.wav'\n",
        "    elif celebName == \"Modi\":\n",
        "      outputAudioName = 'voiceClone_output_Modi.wav'\n",
        "\n",
        "    write(outputAudioName, synthesizer.sample_rate, scaled_audio )"
      ]
    },
    {
      "cell_type": "markdown",
      "source": [
        "## 3. Lip Syncing - Setup"
      ],
      "metadata": {
        "id": "BNSDWQHQwZyO"
      }
    },
    {
      "cell_type": "code",
      "source": [
        "def lip_syncing_setup():\n",
        "  !git clone https://github.com/Rudrabha/Wav2Lip.git\n",
        "  !cd /content/Wav2Lip/checkpoints/ && gdown https://drive.google.com/uc?id=1by1m-0RCx5v34G0ejXy9Zt6wNueNaDpW\n",
        "\n",
        "  !cd /content/Wav2Lip && pip install -r requirements.txt\n",
        "\n",
        "  !wget \"https://www.adrianbulat.com/downloads/python-fan/s3fd-619a316812.pth\" -O \"Wav2Lip/face_detection/detection/sfd/s3fd.pth\"\n",
        "\n",
        "  #Fetch reference videos of\n",
        "  #Trump\n",
        "  !cd /content/sample_data && gdown https://drive.google.com/uc?id=1KgJd4Jix3U7lr2BYymb5u8uGD0rjHzDW\n",
        "  #Merkel\n",
        "  !cd /content/sample_data && gdown https://drive.google.com/uc?id=15EfLI5b_bNrmcmHKovb5QtbxyG8eJV0p\n",
        "  #Mickey\n",
        "  # Modi gdrive link\n",
        "  #Modi\n",
        "  # Modi gdrive link\n",
        "\n",
        "def lip_syncing(celebName):\n",
        "  \n",
        "  lip_syncing_setup()\n",
        "\n",
        "  if celebName == \"Trump\":\n",
        "    !cd Wav2Lip && python inference.py --checkpoint_path checkpoints/wav2lip.pth --face \"../sample_data/Trim.mp4\" --audio \"/content/voiceClone_output_Trump.wav\"\n",
        "  elif celebName == \"Merkel\":\n",
        "    !cd Wav2Lip && python inference.py --checkpoint_path checkpoints/wav2lip.pth --face \"../sample_data/Merkel (online-video-cutter.com).mp4\" --audio \"/content/voiceClone_output_Merkel.wav\"\n",
        "  elif celebName == \"Mickey\":\n",
        "    !cd Wav2Lip && python inference.py --checkpoint_path checkpoints/wav2lip.pth --face \"../sample_data/Mickey_video.mp4\" --audio \"/content/voiceClone_output_Mickey.wav\"\n",
        "  elif celebName == \"Modi\":\n",
        "    !cd Wav2Lip && python inference.py --checkpoint_path checkpoints/wav2lip.pth --face \"../sample_data/Modi_video.mp4\" --audio \"/content/voiceClone_output_Modi.wav\""
      ],
      "metadata": {
        "id": "CKvD_G85wfgi"
      },
      "execution_count": 3,
      "outputs": []
    },
    {
      "cell_type": "markdown",
      "source": [
        "## 4. Pipelining - Setup"
      ],
      "metadata": {
        "id": "qOUQal_kvZb5"
      }
    },
    {
      "cell_type": "code",
      "source": [
        "def create_deepfake(inputText, celebName):\n",
        "# inputText = \"Ich freue mich, heute so viele Gesichter zu sehen. Ist es nicht erstaunlich, dass mein Video heute für die Demo gefälscht ist?\"\n",
        "# final_text = \"Happy to see so many faces today. Isn't this amazing that my video is faked for demo today?\"\n",
        "  final_text = translation_en_de(inputText)\n",
        "  voice_cloning(final_text,celebName)\n",
        "  lip_syncing(celebName)\n",
        "  return '/content/Wav2Lip/results/result_voice.mp4'"
      ],
      "metadata": {
        "id": "OyTwPDUENnrK"
      },
      "execution_count": 4,
      "outputs": []
    },
    {
      "cell_type": "markdown",
      "source": [
        "## 5. Deep Fake creation - Execution & Output"
      ],
      "metadata": {
        "id": "IWjODgdovowC"
      }
    },
    {
      "cell_type": "code",
      "source": [
        "!pip install gradio\n",
        "from gradio.templates import Text\n",
        "import gradio as gr\n",
        "\n",
        "demo = gr.Interface(fn=create_deepfake, \n",
        "                    inputs=[gr.inputs.Textbox(label=\"Input a text in German\"), \n",
        "                            gr.inputs.Dropdown([\"Trump\", \"Merkel\",\"Mickey\", \"Modi\"], \n",
        "                                               label = \"Choose a Celebrity\")], \n",
        "                    outputs=\"playable_video\")\n",
        "demo.launch(inbrowser=True,show_error=True, debug=True)"
      ],
      "metadata": {
        "id": "ZEy2uyCtJ8oR"
      },
      "execution_count": null,
      "outputs": []
    }
  ],
  "metadata": {
    "kernelspec": {
      "display_name": "Python 3",
      "language": "python",
      "name": "python3"
    },
    "language_info": {
      "codemirror_mode": {
        "name": "ipython",
        "version": 3
      },
      "file_extension": ".py",
      "mimetype": "text/x-python",
      "name": "python",
      "nbconvert_exporter": "python",
      "pygments_lexer": "ipython3",
      "version": "3.8.5"
    },
    "colab": {
      "name": "DeepFake_Generator_GradioUI.ipynb",
      "provenance": [],
      "collapsed_sections": [],
      "include_colab_link": true
    },
    "accelerator": "GPU",
    "gpuClass": "standard"
  },
  "nbformat": 4,
  "nbformat_minor": 0
}